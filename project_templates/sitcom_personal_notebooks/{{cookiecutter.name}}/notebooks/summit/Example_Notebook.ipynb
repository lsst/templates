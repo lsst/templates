{
 "cells": [
  {
   "cell_type": "markdown",
   "id": "6f4102e7",
   "metadata": {},
   "source": [
    "# Personal Notebook Example"
   ]
  },
  {
   "cell_type": "markdown",
   "id": "36659fb2",
   "metadata": {},
   "source": [
    "This is an example of a notebook that employs the structure of the Rubin personal notebook repository. <br>\n",
    "In this case we import a local function, stored in this repo, that is used to support this notebook. <br>\n"
   ]
  },
  {
   "cell_type": "markdown",
   "id": "44efdef5-1bd8-4796-abda-17b2131d78bf",
   "metadata": {},
   "source": [
    "### Declare the packages\n",
    "This is done by adding the following to the ~/notebooks/.user_setups file:\n",
    "```\n",
    "setup -j notebooks_{{ cookiecutter.username }} -r ~/develop/notebooks_{{ cookiecutter.username }}\n",
    "```\n"
   ]
  },
  {
   "cell_type": "code",
   "execution_count": null,
   "id": "9dfcb4a8-09a0-4209-82ee-1c1e8ce5d856",
   "metadata": {},
   "outputs": [],
   "source": [
    "# You can check to make sure it is setup by uncommenting the following command\n",
    "#!eups list | grep ingraham"
   ]
  },
  {
   "cell_type": "markdown",
   "id": "6c11bbab",
   "metadata": {},
   "source": [
    "## Import required packages\n",
    "The function simply multiples a user-declared value by a user-declared multiplier. <br>\n",
    "This example function also contains unit tests in the \"tests\" directory of the repo"
   ]
  },
  {
   "cell_type": "code",
   "execution_count": null,
   "id": "5acea5f6",
   "metadata": {},
   "outputs": [],
   "source": [
    "import logging\n",
    "from lsst.sitcom.{{ cookiecutter.username }}.example_function import example_function"
   ]
  },
  {
   "cell_type": "code",
   "execution_count": null,
   "id": "55734eca",
   "metadata": {},
   "outputs": [],
   "source": [
    "logging.basicConfig()\n",
    "logger = logging.getLogger(__name__)\n",
    "logger.level=logging.DEBUG"
   ]
  },
  {
   "cell_type": "markdown",
   "id": "569cd1c5",
   "metadata": {},
   "source": [
    "## Declare variables "
   ]
  },
  {
   "cell_type": "code",
   "execution_count": null,
   "id": "8e34584a",
   "metadata": {},
   "outputs": [],
   "source": [
    "number = 3  # the value that I wish to multiply by a declared multiplier\n",
    "multiplier = 7 # The value of which the above number will be multiplied"
   ]
  },
  {
   "cell_type": "code",
   "execution_count": null,
   "id": "35232f76",
   "metadata": {},
   "outputs": [],
   "source": [
    "result = example_function(number, multiplier=multiplier)\n",
    "logger.info(f'The result is: {result}')"
   ]
  }
 ],
 "metadata": {
  "kernelspec": {
   "display_name": "LSST",
   "language": "python",
   "name": "lsst"
  },
  "language_info": {
   "codemirror_mode": {
    "name": "ipython",
    "version": 3
   },
   "file_extension": ".py",
   "mimetype": "text/x-python",
   "name": "python",
   "nbconvert_exporter": "python",
   "pygments_lexer": "ipython3",
   "version": "3.8.12"
  }
 },
 "nbformat": 4,
 "nbformat_minor": 5
}
